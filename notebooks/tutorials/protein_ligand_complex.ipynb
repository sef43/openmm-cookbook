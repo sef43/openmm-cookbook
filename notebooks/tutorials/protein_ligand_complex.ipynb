{
  "cells": [
    {
      "attachments": {},
      "cell_type": "markdown",
      "metadata": {
        "id": "a1WqSEhzrRKO"
      },
      "source": [
        "# Protein Ligand Complex\n",
        "\n",
        "In this notebook we will demonstrate one way of setting up a simulation of a protein-ligand complex in OpenMM.\n",
        "\n",
        "We will use the OpenMM package [openmmforcefields](https://github.com/openmm/openmmforcefields) and an external package called Open Force Field toolkit ([openff-toolkit](https://github.com/openforcefield/openff-toolkit)).\n",
        "\n",
        "We will cover the following steps:\n",
        "\n",
        "  - Loading in the ligand with `openff-toolkit`.\n",
        "  - Parameterising the ligand force-field with `openmmforcefields`.\n",
        "  - Combining the topologies.\n",
        "  - Solvating and simulating.\n",
        "\n",
        "*Note this notebook is based on the [openff-toolkit example](https://github.com/openforcefield/openff-toolkit/blob/stable/examples/toolkit_showcase/toolkit_showcase.ipynb) . We would like to give credit to the Open ForceField Authors.*\n",
        "\n",
        "\n",
        "\n",
        "## Extra packages\n",
        "<a id=\"packages1\"></a>\n",
        "\n",
        "We will need to install the additional python packages:\n",
        "\n",
        " - openmmforcefields\n",
        "   - github: https://github.com/openmm/openmmforcefields\n",
        "   - conda-forge: https://anaconda.org/conda-forge/openmmforcefields\n",
        " - openff-toolkit\n",
        "   - github: https://github.com/openforcefield/openff-toolkit\n",
        "   - conda-forge: https://anaconda.org/conda-forge/openff-toolkit\n",
        "\n",
        "Both of these will be installed if you install openmmforcefields from conda-forge.\n"
      ]
    },
    {
      "cell_type": "code",
      "execution_count": null,
      "metadata": {
        "id": "T_-_BLwFrRKT"
      },
      "outputs": [],
      "source": [
        "!mamba install -y -c conda-forge openmmforcefields"
      ]
    },
    {
      "attachments": {},
      "cell_type": "markdown",
      "metadata": {
        "id": "gcfdPKeSrRKU"
      },
      "source": [
        "## Imports\n",
        "\n",
        "We need to be careful with the imports here because OpenMM and OpenFF have some objects with the same names. For this reason we no longer use the wildcard imports and adopt a more typical Python programming approach."
      ]
    },
    {
      "cell_type": "code",
      "execution_count": null,
      "metadata": {
        "id": "kDHjxL6wrRKU"
      },
      "outputs": [],
      "source": [
        "# OpenMM imports\n",
        "import openmm.app as app\n",
        "import openmm as mm\n",
        "import openmm.unit as unit\n",
        "\n",
        "# OpenMM-forcefields imports\n",
        "from openmmforcefields.generators import SMIRNOFFTemplateGenerator\n",
        "\n",
        "# OpenFF-toolkit imports\n",
        "from openff.toolkit import Molecule\n",
        "from openff.toolkit import Topology as offTopology\n",
        "from openff.units.openmm import to_openmm as offquantity_to_openmm\n",
        "\n",
        "# other imports\n",
        "from sys import stdout"
      ]
    },
    {
      "attachments": {},
      "cell_type": "markdown",
      "metadata": {
        "id": "rnEI4Fc-rRKU"
      },
      "source": [
        "## System\n",
        "\n",
        "Our example system will be a complex of a benzene ligand and a lysozyme protein. The lysozyme is an antimicrobial protein that has been extensively studied by MD simulations. We can download the files from the github repo."
      ]
    },
    {
      "cell_type": "code",
      "execution_count": null,
      "metadata": {
        "id": "XWgLx3XYrRKV"
      },
      "outputs": [],
      "source": [
        "# get the files\n",
        "!wget https://raw.githubusercontent.com/openmm/openmm_workshop_july2023/main/section_1/benzene.sdf\n",
        "!wget https://raw.githubusercontent.com/openmm/openmm_workshop_july2023/main/section_1/lysozyme.pdb"
      ]
    },
    {
      "attachments": {},
      "cell_type": "markdown",
      "metadata": {},
      "source": [
        "The benzene-lysozyme complex in shown in the figure below.\n",
        "\n",
        "![benzene-lysozyme](./benzene_lysozyme.png)\n",
        "**Figure.** Benzene-lysozyme complex.\n",
        "\n",
        "Note that the files we are using have already been cleaned up (see [PDBFixer](https://github.com/openmm/pdbfixer) for more info). Additionally, the ligand is aligned with the protein and in an appropriate binding site. This is something you would need to do with a docking program before using OpenMM!"
      ]
    },
    {
      "attachments": {},
      "cell_type": "markdown",
      "metadata": {
        "id": "ME4FZlXwrRKV"
      },
      "source": [
        "## Load in the molecules\n",
        "\n",
        "The protein is a PDB file so we can load it as before with `PDBFile`. The benzene molecule is in SDF file format for which OpenMM does not have loaders. We need to use OpenFF toolkit to load it."
      ]
    },
    {
      "cell_type": "code",
      "execution_count": null,
      "metadata": {
        "id": "mUZqalWTrRKW"
      },
      "outputs": [],
      "source": [
        "protein_path = 'lysozyme.pdb'\n",
        "ligand_path = 'benzene.sdf'\n",
        "\n",
        "# Load a molecule from a SDF file\n",
        "ligand = Molecule.from_file(ligand_path)\n",
        "\n",
        "# Load in the protein from a PDB file\n",
        "protein_pdb = app.PDBFile(protein_path)"
      ]
    },
    {
      "attachments": {},
      "cell_type": "markdown",
      "metadata": {
        "id": "kKdc9iyurRKW"
      },
      "source": [
        "### Creating the ForceField\n",
        "<a id=\"createff\"></a>\n",
        "\n",
        "We now need to define the forcefield to use. For the protein we can use the standard forcefields already available in OpenMM. For the benzene molecule we will need to generate a forcefield template for it.\n",
        "\n",
        "We can do this using the residue template generators for small molecules from the [openmmforcefields](https://github.com/openmm/openmmforcefields) package. There is a choice between the [Amber GAFF small molecule force field](http://ambermd.org/antechamber/gaff.html) or the [Open Force Field Initiative force fields](https://github.com/openforcefield/openff-forcefields).\n",
        "\n",
        "For this example we will use [OpenFF SMIRNOFF](https://docs.openforcefield.org/projects/toolkit/en/stable/users/smirnoff.html).\n"
      ]
    },
    {
      "cell_type": "code",
      "execution_count": null,
      "metadata": {
        "id": "j6dzzVydrRKW"
      },
      "outputs": [],
      "source": [
        "# Create the SMIRNOFF template generator with the default installed force field\n",
        "smirnoff = SMIRNOFFTemplateGenerator(molecules=ligand)\n",
        "\n",
        "# we can check which version of the force field is being used\n",
        "print(smirnoff.smirnoff_filename)\n",
        "\n",
        "# Create an OpenMM ForceField object with AMBER ff14SB and TIP3P\n",
        "ff = app.ForceField('amber/protein.ff14SB.xml', 'amber/tip3p_standard.xml')\n",
        "\n",
        "# add in the SMIRNOFF template generator\n",
        "ff.registerTemplateGenerator(smirnoff.generator)"
      ]
    },
    {
      "attachments": {},
      "cell_type": "markdown",
      "metadata": {
        "id": "lD_4s8narRKW"
      },
      "source": [
        "### Combine topologies and solvate\n",
        "<a id=\"combine\"></a>\n",
        "\n",
        "We can convert from the OpenFF format topology to an OpenMM format topology and then use the OpenMM Modeller to combine the ligand and protein into a single topology. Once combined we can solvate as before."
      ]
    },
    {
      "cell_type": "code",
      "execution_count": null,
      "metadata": {
        "id": "ty2DhYkMrRKW"
      },
      "outputs": [],
      "source": [
        "# make an OpenMM Modeller object with the protein\n",
        "modeller = app.Modeller(protein_pdb.topology, protein_pdb.positions)\n",
        "\n",
        "# make an OpenFF Topology of the ligand\n",
        "ligand_off_topology = offTopology.from_molecules(molecules=[ligand])\n",
        "\n",
        "# convert it to an OpenMM Topology\n",
        "ligand_omm_topology = ligand_off_topology.to_openmm()\n",
        "\n",
        "# get the positions of the ligand\n",
        "ligand_positions = offquantity_to_openmm(ligand.conformers[0])\n",
        "\n",
        "# add the ligand to the Modeller\n",
        "modeller.add(ligand_omm_topology, ligand_positions)\n",
        "\n",
        "# solvate\n",
        "modeller.addSolvent(ff, padding=1.0*unit.nanometer, ionicStrength=0.15*unit.molar)\n"
      ]
    },
    {
      "attachments": {},
      "cell_type": "markdown",
      "metadata": {
        "id": "Vi8r-JjurRKX"
      },
      "source": [
        "## Simulate\n",
        "\n",
        "We can now simulate in the NVT ensemble. See the previous tutorial \"Protein in water\" for more explanation of this final step."
      ]
    },
    {
      "cell_type": "code",
      "execution_count": null,
      "metadata": {
        "id": "cWmDX1ZkrRKX"
      },
      "outputs": [],
      "source": [
        "system = ff.createSystem(modeller.topology, nonbondedMethod=app.PME, constraints=app.HBonds)\n",
        "integrator = mm.LangevinMiddleIntegrator(300*unit.kelvin, 1/unit.picosecond, 0.002*unit.picoseconds)\n",
        "simulation = app.Simulation(modeller.topology, system, integrator)\n",
        "\n",
        "simulation.context.setPositions(modeller.positions)\n",
        "\n",
        "simulation.minimizeEnergy(maxIterations=100)\n",
        "\n",
        "simulation.context.setVelocitiesToTemperature(300*unit.kelvin)\n",
        "\n",
        "simulation.reporters.append(app.PDBReporter('traj.pdb', 1000))\n",
        "\n",
        "simulation.reporters.append(app.StateDataReporter(stdout, 100, step=True,\n",
        "        potentialEnergy=True, temperature=True, speed=True))\n",
        "\n",
        "print(\"Running simulation...\")\n",
        "simulation.step(1000)"
      ]
    }
  ],
  "metadata": {
    "colab": {
      "provenance": []
    },
    "kernelspec": {
      "display_name": "openff",
      "language": "python",
      "name": "python3"
    },
    "language_info": {
      "codemirror_mode": {
        "name": "ipython",
        "version": 3
      },
      "file_extension": ".py",
      "mimetype": "text/x-python",
      "name": "python",
      "nbconvert_exporter": "python",
      "pygments_lexer": "ipython3",
      "version": "3.10.8"
    },
    "nbsphinx": {
      "execute": "never"
    },
    "orig_nbformat": 4
  },
  "nbformat": 4,
  "nbformat_minor": 0
}
